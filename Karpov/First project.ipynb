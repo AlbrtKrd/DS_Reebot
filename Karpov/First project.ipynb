{
 "cells": [
  {
   "cell_type": "code",
   "execution_count": 1,
   "metadata": {},
   "outputs": [
    {
     "name": "stderr",
     "output_type": "stream",
     "text": [
      "d:\\anaconda\\Lib\\site-packages\\pandas\\core\\arrays\\masked.py:60: UserWarning: Pandas requires version '1.3.6' or newer of 'bottleneck' (version '1.3.5' currently installed).\n",
      "  from pandas.core import (\n"
     ]
    }
   ],
   "source": [
    "import pandas as pd\n",
    "import pandahouse as ph\n",
    "import numpy as np\n",
    "import scipy.stats as ss\n",
    "import matplotlib.pyplot as plt\n",
    "import seaborn as sns\n",
    "import warnings\n",
    "import plotly.express as px\n",
    "import requests\n",
    "import time\n",
    "from decimal import Decimal, getcontext\n",
    "from urllib.parse import urlencode\n",
    "\n",
    "%matplotlib inline\n",
    "\n",
    "warnings.filterwarnings('ignore')\n"
   ]
  },
  {
   "cell_type": "code",
   "execution_count": 2,
   "metadata": {},
   "outputs": [],
   "source": [
    "assessments         = 'https://disk.yandex.ru/d/iSVP1sZ7AdW7TQ'\n",
    "studentAssessment   = 'https://disk.yandex.ru/d/DYd4M5b_8RETsA'\n",
    "studentRegistration = 'https://disk.yandex.ru/d/lqHnH8NOZ458iw'\n",
    "courses             = 'https://disk.yandex.ru/d/jmJxR8yhwCXlaw'"
   ]
  },
  {
   "cell_type": "code",
   "execution_count": 3,
   "metadata": {},
   "outputs": [],
   "source": [
    "def Yandex_df(url):\n",
    "    time.sleep(1)\n",
    "    baza = 'https://cloud-api.yandex.net/v1/disk/public/resources/download?'\n",
    "    url = baza + urlencode(dict(public_key=url))\n",
    "    response = requests.get(url)\n",
    "    return pd.read_csv(response.json()['href'])"
   ]
  },
  {
   "cell_type": "code",
   "execution_count": 4,
   "metadata": {},
   "outputs": [],
   "source": [
    "assessments = Yandex_df(assessments)\n",
    "studentAssessment = Yandex_df(studentAssessment)\n",
    "studentRegistration = Yandex_df(studentRegistration)\n",
    "courses = Yandex_df(courses)\n"
   ]
  },
  {
   "cell_type": "code",
   "execution_count": 5,
   "metadata": {},
   "outputs": [
    {
     "data": {
      "text/plain": [
       "code_module           0\n",
       "code_presentation     0\n",
       "id_assessment         0\n",
       "assessment_type       0\n",
       "date                 11\n",
       "weight                0\n",
       "dtype: int64"
      ]
     },
     "execution_count": 5,
     "metadata": {},
     "output_type": "execute_result"
    }
   ],
   "source": [
    "assessments.isna().sum()"
   ]
  },
  {
   "cell_type": "code",
   "execution_count": 6,
   "metadata": {},
   "outputs": [
    {
     "data": {
      "text/plain": [
       "(206, 6)"
      ]
     },
     "execution_count": 6,
     "metadata": {},
     "output_type": "execute_result"
    }
   ],
   "source": [
    "assessments.shape"
   ]
  },
  {
   "cell_type": "code",
   "execution_count": 7,
   "metadata": {},
   "outputs": [
    {
     "data": {
      "text/plain": [
       "id_assessment       0\n",
       "id_student          0\n",
       "date_submitted      0\n",
       "is_banked           0\n",
       "score             173\n",
       "dtype: int64"
      ]
     },
     "execution_count": 7,
     "metadata": {},
     "output_type": "execute_result"
    }
   ],
   "source": [
    "studentAssessment.isna().sum()"
   ]
  },
  {
   "cell_type": "code",
   "execution_count": 8,
   "metadata": {},
   "outputs": [
    {
     "data": {
      "text/plain": [
       "(173912, 5)"
      ]
     },
     "execution_count": 8,
     "metadata": {},
     "output_type": "execute_result"
    }
   ],
   "source": [
    "studentAssessment.shape\n"
   ]
  },
  {
   "cell_type": "code",
   "execution_count": 9,
   "metadata": {},
   "outputs": [
    {
     "data": {
      "text/plain": [
       "code_module                0\n",
       "code_presentation          0\n",
       "id_student                 0\n",
       "date_registration         45\n",
       "date_unregistration    22521\n",
       "dtype: int64"
      ]
     },
     "execution_count": 9,
     "metadata": {},
     "output_type": "execute_result"
    }
   ],
   "source": [
    "studentRegistration.isna().sum()"
   ]
  },
  {
   "cell_type": "code",
   "execution_count": 10,
   "metadata": {},
   "outputs": [
    {
     "data": {
      "text/plain": [
       "(32593, 5)"
      ]
     },
     "execution_count": 10,
     "metadata": {},
     "output_type": "execute_result"
    }
   ],
   "source": [
    "studentRegistration.shape"
   ]
  },
  {
   "cell_type": "code",
   "execution_count": 11,
   "metadata": {},
   "outputs": [
    {
     "data": {
      "text/plain": [
       "code_module                   0\n",
       "code_presentation             0\n",
       "module_presentation_length    0\n",
       "dtype: int64"
      ]
     },
     "execution_count": 11,
     "metadata": {},
     "output_type": "execute_result"
    }
   ],
   "source": [
    "courses.isna().sum()"
   ]
  },
  {
   "cell_type": "code",
   "execution_count": 12,
   "metadata": {},
   "outputs": [
    {
     "data": {
      "text/plain": [
       "code_module           0\n",
       "code_presentation     0\n",
       "id_assessment         0\n",
       "assessment_type       0\n",
       "date                 11\n",
       "weight                0\n",
       "dtype: int64"
      ]
     },
     "execution_count": 12,
     "metadata": {},
     "output_type": "execute_result"
    }
   ],
   "source": [
    "assessments.isna().sum()\n"
   ]
  },
  {
   "cell_type": "code",
   "execution_count": 13,
   "metadata": {},
   "outputs": [],
   "source": [
    "# мерджим датасеты\n",
    "df = assessments.merge(studentAssessment, on = 'id_assessment')\\\n",
    ".merge(courses, on = ['code_module','code_presentation'])\\\n",
    ".merge(studentRegistration, on = ['code_module','code_presentation','id_student'])"
   ]
  },
  {
   "cell_type": "code",
   "execution_count": 14,
   "metadata": {},
   "outputs": [],
   "source": [
    "# ставим флаг успешной сдачи\n",
    "df['succes'] = np.where(df['score'] >= 40,1,0) "
   ]
  },
  {
   "cell_type": "code",
   "execution_count": 15,
   "metadata": {},
   "outputs": [],
   "source": [
    "#Сколько студентов успешно сдали только один курс? (Успешная сдача — это зачёт по курсу на экзамене)"
   ]
  },
  {
   "cell_type": "code",
   "execution_count": 16,
   "metadata": {},
   "outputs": [],
   "source": [
    "df_succes = df[(df['succes'] == 1) & (df['assessment_type'] == 'Exam')]"
   ]
  },
  {
   "cell_type": "code",
   "execution_count": 17,
   "metadata": {},
   "outputs": [
    {
     "name": "stdout",
     "output_type": "stream",
     "text": [
      "Сдали только 1 экзамен всего 3802 студентов\n"
     ]
    }
   ],
   "source": [
    "# группируем по студентам, вычисляем кол-во успешных сданныхх экзаменов \n",
    "answer = df_succes\\\n",
    ".groupby('id_student',as_index=False)\\\n",
    ".agg({'code_module':'count'})\\\n",
    ".code_module\\\n",
    ".value_counts()\n",
    "\n",
    "print(f'Сдали только 1 экзамен всего {answer[1]} студентов')"
   ]
  },
  {
   "cell_type": "code",
   "execution_count": 18,
   "metadata": {},
   "outputs": [],
   "source": [
    "# Выяви самый сложный и самый простой экзамен: \n",
    "# найди курсы и экзамены в рамках курса, которые \n",
    "# обладают самой низкой и самой высокой завершаемостью*"
   ]
  },
  {
   "cell_type": "code",
   "execution_count": 19,
   "metadata": {},
   "outputs": [
    {
     "name": "stdout",
     "output_type": "stream",
     "text": [
      "Самый сложный курс в разрезе курсов и семестров является курс: DDD, семестр: 2013B, процент проходимости: 83.72%\n",
      "Самый легкий курс в разрезе курсов и семестров является курс: DDD, семестр: 2014B, процент проходимости: 92.56%\n"
     ]
    }
   ],
   "source": [
    "\"\"\"Группируем по курсу и семестру, дальше считаем кол-во \n",
    "попыток и колличество успешных попыток сдачи экзаемна\"\"\"\n",
    "\n",
    "df_group_semestr = df.query(\"assessment_type =='Exam'\")\\\n",
    ".groupby(['code_module','code_presentation'],as_index=False)\\\n",
    ".agg(succes=('succes','sum'), total = ('succes','count'))\n",
    "\n",
    "# Высчитываем долю\n",
    "df_group_semestr['perc'] = df_group_semestr['succes'] / df_group_semestr['total']\n",
    "\n",
    "hard = df_group_semestr\\\n",
    ".sort_values('perc').iloc[0]\n",
    "\n",
    "easy = df_group_semestr\\\n",
    ".sort_values('perc', ascending= False).iloc[0]\n",
    "\n",
    "print(f'Самый сложный курс в разрезе курсов и семестров является курс: {hard.code_module}, семестр: {hard.code_presentation}, процент проходимости: {hard.perc:.2%}')\n",
    "\n",
    "print(f'Самый легкий курс в разрезе курсов и семестров является курс: {easy.code_module}, семестр: {easy.code_presentation}, процент проходимости: {easy.perc:.2%}')\n"
   ]
  },
  {
   "cell_type": "code",
   "execution_count": 20,
   "metadata": {},
   "outputs": [
    {
     "name": "stdout",
     "output_type": "stream",
     "text": [
      "Самый сложный курс в разрезе курсов: CCC, процент проходимости: 87.89%\n",
      "Самый легкий курс в разрезе курсов: DDD, процент проходимости: 88.99%\n"
     ]
    }
   ],
   "source": [
    "\"\"\"Группируем по курсу, дальше считаем кол-во \n",
    "попыток и колличество успешных попыток сдачи экзаемна\"\"\"\n",
    "\n",
    "df_group_module = df.query(\"assessment_type =='Exam'\")\\\n",
    ".groupby(['code_module'],as_index=False)\\\n",
    ".agg(succes=('succes','sum'), total = ('succes','count'))\n",
    "\n",
    "# Высчитываем долю\n",
    "df_group_module['perc'] = df_group_module['succes'] / df_group_module['total']\n",
    "\n",
    "hard = df_group_module\\\n",
    ".sort_values('perc').iloc[0]\n",
    "\n",
    "easy = df_group_module\\\n",
    ".sort_values('perc', ascending= False).iloc[0]\n",
    "\n",
    "print(f'Самый сложный курс в разрезе курсов: {hard.code_module}, процент проходимости: {hard.perc:.2%}')\n",
    "\n",
    "print(f'Самый легкий курс в разрезе курсов: {easy.code_module}, процент проходимости: {easy.perc:.2%}')\n"
   ]
  },
  {
   "cell_type": "code",
   "execution_count": 21,
   "metadata": {},
   "outputs": [],
   "source": [
    "#По каждому предмету определи средний срок сдачи экзаменов (под сдачей понимаем последнее успешное прохождение экзамена студентом)"
   ]
  },
  {
   "cell_type": "code",
   "execution_count": 22,
   "metadata": {},
   "outputs": [
    {
     "data": {
      "text/html": [
       "<div>\n",
       "<style scoped>\n",
       "    .dataframe tbody tr th:only-of-type {\n",
       "        vertical-align: middle;\n",
       "    }\n",
       "\n",
       "    .dataframe tbody tr th {\n",
       "        vertical-align: top;\n",
       "    }\n",
       "\n",
       "    .dataframe thead th {\n",
       "        text-align: right;\n",
       "    }\n",
       "</style>\n",
       "<table border=\"1\" class=\"dataframe\">\n",
       "  <thead>\n",
       "    <tr style=\"text-align: right;\">\n",
       "      <th></th>\n",
       "      <th>code_module</th>\n",
       "      <th>date_submitted</th>\n",
       "    </tr>\n",
       "  </thead>\n",
       "  <tbody>\n",
       "    <tr>\n",
       "      <th>0</th>\n",
       "      <td>CCC</td>\n",
       "      <td>239.345217</td>\n",
       "    </tr>\n",
       "    <tr>\n",
       "      <th>1</th>\n",
       "      <td>DDD</td>\n",
       "      <td>237.976006</td>\n",
       "    </tr>\n",
       "  </tbody>\n",
       "</table>\n",
       "</div>"
      ],
      "text/plain": [
       "  code_module  date_submitted\n",
       "0         CCC      239.345217\n",
       "1         DDD      237.976006"
      ]
     },
     "execution_count": 22,
     "metadata": {},
     "output_type": "execute_result"
    }
   ],
   "source": [
    "mean_dt = df.query(\"(succes == 1) & (assessment_type == 'Exam')\")\\\n",
    ".groupby('code_module',as_index=False).agg({'date_submitted':'mean'})\n",
    "\n",
    "mean_dt\n"
   ]
  },
  {
   "cell_type": "markdown",
   "metadata": {},
   "source": [
    "#### Средний срок сдачи экзамена CCC - 239 дней \n",
    "\n",
    "#### Средний срок сдачи экзамена DDD - 238 дней"
   ]
  },
  {
   "cell_type": "code",
   "execution_count": 23,
   "metadata": {},
   "outputs": [],
   "source": [
    "# Выяви самые популярные предметы (ТОП-3) по количеству регистраций на них. А также предметы с самым большим оттоком (ТОП-3)"
   ]
  },
  {
   "cell_type": "code",
   "execution_count": 24,
   "metadata": {},
   "outputs": [],
   "source": [
    "#берем студнетов у которых заполенная дата регистрации\n",
    "df_reg = studentRegistration[studentRegistration['date_registration'].notna()]\n",
    "\n",
    "#выбераем студентов с датой отмены рагистрации\n",
    "cancelation = df_reg.query('date_unregistration > date_registration')\\\n",
    ".groupby('code_module',as_index=False).agg({'id_student':'nunique'})\n",
    "\n",
    "#Ссчитаем общее кол-во студнетов\n",
    "total_student = df_reg\\\n",
    ".groupby('code_module',as_index=False).agg({'id_student':'nunique'})\n",
    "\n",
    "df_grouped = total_student.merge(cancelation, on = ['code_module'])\\\n",
    ".rename(columns={'id_student_x':'total','id_student_y':'out'})"
   ]
  },
  {
   "cell_type": "code",
   "execution_count": 25,
   "metadata": {},
   "outputs": [],
   "source": [
    "# Самый большой отток буду брать в абсолютных величинах,\n",
    "# с точки зрения не бюджетных мест - абсолютное колличество = потери в деньгах"
   ]
  },
  {
   "cell_type": "code",
   "execution_count": 26,
   "metadata": {},
   "outputs": [
    {
     "data": {
      "text/html": [
       "<div>\n",
       "<style scoped>\n",
       "    .dataframe tbody tr th:only-of-type {\n",
       "        vertical-align: middle;\n",
       "    }\n",
       "\n",
       "    .dataframe tbody tr th {\n",
       "        vertical-align: top;\n",
       "    }\n",
       "\n",
       "    .dataframe thead th {\n",
       "        text-align: right;\n",
       "    }\n",
       "</style>\n",
       "<table border=\"1\" class=\"dataframe\">\n",
       "  <thead>\n",
       "    <tr style=\"text-align: right;\">\n",
       "      <th></th>\n",
       "      <th>code_module</th>\n",
       "      <th>total</th>\n",
       "    </tr>\n",
       "  </thead>\n",
       "  <tbody>\n",
       "    <tr>\n",
       "      <th>1</th>\n",
       "      <td>BBB</td>\n",
       "      <td>7683</td>\n",
       "    </tr>\n",
       "    <tr>\n",
       "      <th>5</th>\n",
       "      <td>FFF</td>\n",
       "      <td>7387</td>\n",
       "    </tr>\n",
       "    <tr>\n",
       "      <th>3</th>\n",
       "      <td>DDD</td>\n",
       "      <td>5840</td>\n",
       "    </tr>\n",
       "  </tbody>\n",
       "</table>\n",
       "</div>"
      ],
      "text/plain": [
       "  code_module  total\n",
       "1         BBB   7683\n",
       "5         FFF   7387\n",
       "3         DDD   5840"
      ]
     },
     "execution_count": 26,
     "metadata": {},
     "output_type": "execute_result"
    }
   ],
   "source": [
    "# Самые популярные курсы\n",
    "df_grouped.sort_values('total',ascending = False)\\\n",
    "[['code_module','total']].head(3)"
   ]
  },
  {
   "cell_type": "code",
   "execution_count": 27,
   "metadata": {},
   "outputs": [
    {
     "data": {
      "text/html": [
       "<div>\n",
       "<style scoped>\n",
       "    .dataframe tbody tr th:only-of-type {\n",
       "        vertical-align: middle;\n",
       "    }\n",
       "\n",
       "    .dataframe tbody tr th {\n",
       "        vertical-align: top;\n",
       "    }\n",
       "\n",
       "    .dataframe thead th {\n",
       "        text-align: right;\n",
       "    }\n",
       "</style>\n",
       "<table border=\"1\" class=\"dataframe\">\n",
       "  <thead>\n",
       "    <tr style=\"text-align: right;\">\n",
       "      <th></th>\n",
       "      <th>code_module</th>\n",
       "      <th>out</th>\n",
       "    </tr>\n",
       "  </thead>\n",
       "  <tbody>\n",
       "    <tr>\n",
       "      <th>1</th>\n",
       "      <td>BBB</td>\n",
       "      <td>2302</td>\n",
       "    </tr>\n",
       "    <tr>\n",
       "      <th>5</th>\n",
       "      <td>FFF</td>\n",
       "      <td>2235</td>\n",
       "    </tr>\n",
       "    <tr>\n",
       "      <th>3</th>\n",
       "      <td>DDD</td>\n",
       "      <td>2056</td>\n",
       "    </tr>\n",
       "  </tbody>\n",
       "</table>\n",
       "</div>"
      ],
      "text/plain": [
       "  code_module   out\n",
       "1         BBB  2302\n",
       "5         FFF  2235\n",
       "3         DDD  2056"
      ]
     },
     "execution_count": 27,
     "metadata": {},
     "output_type": "execute_result"
    }
   ],
   "source": [
    "# самый большой отток \n",
    "df_grouped.sort_values('out',ascending = False)\\\n",
    "[['code_module','out']].head(3)\n",
    "# в принципе логично, там, куда больше поступают - больше и уходят"
   ]
  },
  {
   "cell_type": "code",
   "execution_count": 28,
   "metadata": {},
   "outputs": [],
   "source": [
    "#Используя pandas, в период с начала 2013 по конец 2014 выяви семестр с самой низкой завершаемостью курсов и самыми долгими средними сроками сдачи курсов."
   ]
  },
  {
   "cell_type": "code",
   "execution_count": 29,
   "metadata": {},
   "outputs": [],
   "source": [
    "\n",
    "df_sample = df.query(\"assessment_type=='Exam'\")"
   ]
  },
  {
   "cell_type": "code",
   "execution_count": 30,
   "metadata": {},
   "outputs": [
    {
     "name": "stdout",
     "output_type": "stream",
     "text": [
      "Самый сложный семестр: 2013B, процент завершаемости: 83.72%\n",
      "Самый долгий семестр: 2014J, серднее время сдачи екзамена: 243.7 дня\n"
     ]
    }
   ],
   "source": [
    "df_semestr = df_sample.groupby(['code_presentation'],as_index=False)\\\n",
    ".agg(succes=('succes','sum'), total = ('succes','count'), mean_dt= ('date_submitted','mean'))\n",
    "df_semestr['succes_pec'] = df_semestr['succes'] / df_semestr['total']\n",
    "hard_semest = df_semestr.sort_values('succes_pec').iloc[0]\n",
    "slow_semest = df_semestr.sort_values('mean_dt',ascending=False).iloc[0]\n",
    "\n",
    "print(f'Самый сложный семестр: {hard_semest.code_presentation}, процент завершаемости: {hard_semest.succes_pec:.2%}')\n",
    "print(f'Самый долгий семестр: {slow_semest.code_presentation}, серднее время сдачи екзамена: {slow_semest.mean_dt:.1f} дня')\n"
   ]
  },
  {
   "cell_type": "markdown",
   "metadata": {},
   "source": [
    "6. Часто для качественного анализа аудитории используют подходы, основанные на сегментации. Используя python, построй адаптированные RFM-кластеры студентов, чтобы качественно оценить свою аудиторию. В адаптированной кластеризации можешь выбрать следующие метрики: R - среднее время сдачи одного экзамена, F - завершаемость курсов, M - среднее количество баллов, получаемое за экзамен. Подробно опиши, как ты создавал кластеры. Для каждого RFM-сегмента построй границы метрик recency, frequency и monetary для интерпретации этих кластеров."
   ]
  },
  {
   "cell_type": "code",
   "execution_count": 73,
   "metadata": {},
   "outputs": [],
   "source": [
    "rfm = df.query('assessment_type==\"Exam\"').groupby('id_student',as_index=False)\\\n",
    ".agg(recency = ('date_submitted','mean')\n",
    "     ,monetary = ('score','mean')\n",
    "     ,cnt_succes = ('succes','sum')\n",
    "     ,total_tests = ('succes','count'))\n",
    "\n",
    "rfm['frequency'] = rfm['cnt_succes']/ rfm['total_tests']"
   ]
  },
  {
   "cell_type": "code",
   "execution_count": 74,
   "metadata": {},
   "outputs": [
    {
     "data": {
      "text/html": [
       "<div>\n",
       "<style scoped>\n",
       "    .dataframe tbody tr th:only-of-type {\n",
       "        vertical-align: middle;\n",
       "    }\n",
       "\n",
       "    .dataframe tbody tr th {\n",
       "        vertical-align: top;\n",
       "    }\n",
       "\n",
       "    .dataframe thead th {\n",
       "        text-align: right;\n",
       "    }\n",
       "</style>\n",
       "<table border=\"1\" class=\"dataframe\">\n",
       "  <thead>\n",
       "    <tr style=\"text-align: right;\">\n",
       "      <th></th>\n",
       "      <th>id_student</th>\n",
       "      <th>recency</th>\n",
       "      <th>monetary</th>\n",
       "      <th>cnt_succes</th>\n",
       "      <th>total_tests</th>\n",
       "      <th>frequency</th>\n",
       "    </tr>\n",
       "  </thead>\n",
       "  <tbody>\n",
       "    <tr>\n",
       "      <th>0</th>\n",
       "      <td>23698</td>\n",
       "      <td>243.0</td>\n",
       "      <td>80.0</td>\n",
       "      <td>1</td>\n",
       "      <td>1</td>\n",
       "      <td>1.0</td>\n",
       "    </tr>\n",
       "  </tbody>\n",
       "</table>\n",
       "</div>"
      ],
      "text/plain": [
       "   id_student  recency  monetary  cnt_succes  total_tests  frequency\n",
       "0       23698    243.0      80.0           1            1        1.0"
      ]
     },
     "execution_count": 74,
     "metadata": {},
     "output_type": "execute_result"
    }
   ],
   "source": [
    "rfm.head(1)"
   ]
  },
  {
   "cell_type": "code",
   "execution_count": 75,
   "metadata": {},
   "outputs": [],
   "source": [
    "sns.set(\n",
    "    font_scale=1,\n",
    "    style=\"whitegrid\",\n",
    "    rc={'figure.figsize':(10,7)}\n",
    "        )"
   ]
  },
  {
   "cell_type": "code",
   "execution_count": 76,
   "metadata": {},
   "outputs": [
    {
     "data": {
      "text/plain": [
       "<Axes: xlabel='recency', ylabel='Density'>"
      ]
     },
     "execution_count": 76,
     "metadata": {},
     "output_type": "execute_result"
    },
    {
     "data": {
      "image/png": "[encoded data removed]",
      "text/plain": [
       "<Figure size 1000x700 with 1 Axes>"
      ]
     },
     "metadata": {},
     "output_type": "display_data"
    }
   ],
   "source": [
    "plt.subplot(3,1,1)\n",
    "sns.distplot(rfm.recency\n",
    "             ,kde=True\n",
    "              ,color='blue'\n",
    "             ,hist_kws={'edgecolor':'black'}\n",
    "             )"
   ]
  },
  {
   "cell_type": "code",
   "execution_count": 77,
   "metadata": {},
   "outputs": [
    {
     "data": {
      "text/plain": [
       "count    4633.000000\n",
       "mean      238.462227\n",
       "std         5.653378\n",
       "min       229.000000\n",
       "25%       234.000000\n",
       "50%       241.000000\n",
       "75%       243.000000\n",
       "max       285.000000\n",
       "Name: recency, dtype: float64"
      ]
     },
     "execution_count": 77,
     "metadata": {},
     "output_type": "execute_result"
    }
   ],
   "source": [
    "rfm['recency'].describe()"
   ]
  },
  {
   "cell_type": "code",
   "execution_count": 78,
   "metadata": {},
   "outputs": [],
   "source": [
    "# будем бить на 4 сегмента, < 234, 241,243 \n"
   ]
  },
  {
   "cell_type": "code",
   "execution_count": 79,
   "metadata": {},
   "outputs": [
    {
     "data": {
      "text/plain": [
       "229.0"
      ]
     },
     "execution_count": 79,
     "metadata": {},
     "output_type": "execute_result"
    }
   ],
   "source": [
    "rfm.recency.min()"
   ]
  },
  {
   "cell_type": "code",
   "execution_count": 80,
   "metadata": {},
   "outputs": [
    {
     "data": {
      "text/plain": [
       "<Axes: xlabel='monetary', ylabel='Density'>"
      ]
     },
     "execution_count": 80,
     "metadata": {},
     "output_type": "execute_result"
    },
    {
     "data": {
      "image/png": "[encoded data removed]",
      "text/plain": [
       "<Figure size 1000x700 with 1 Axes>"
      ]
     },
     "metadata": {},
     "output_type": "display_data"
    }
   ],
   "source": [
    "plt.subplot(3,1,2)\n",
    "sns.distplot(rfm.monetary\n",
    "            ,kde=True\n",
    "             ,color='blue'\n",
    "             ,hist_kws={'edgecolor':'black'}\n",
    "            )"
   ]
  },
  {
   "cell_type": "code",
   "execution_count": 81,
   "metadata": {},
   "outputs": [
    {
     "data": {
      "text/plain": [
       "[Text(0, 0, '4069'), Text(0, 0, '536'), Text(0, 0, '28')]"
      ]
     },
     "execution_count": 81,
     "metadata": {},
     "output_type": "execute_result"
    },
    {
     "data": {
      "image/png": "[encoded data removed]",
      "text/plain": [
       "<Figure size 1000x700 with 1 Axes>"
      ]
     },
     "metadata": {},
     "output_type": "display_data"
    }
   ],
   "source": [
    "plt.subplot(3,1,2)\n",
    "\n",
    "ax = sns.countplot(x=rfm['frequency'],\n",
    "                   order=rfm['frequency'].value_counts(ascending=False).index)\n",
    "\n",
    "abs_values = rfm['frequency'].value_counts(ascending=False).values\n",
    "\n",
    "ax.bar_label(container=ax.containers[0], labels=abs_values)"
   ]
  },
  {
   "cell_type": "code",
   "execution_count": 82,
   "metadata": {},
   "outputs": [],
   "source": [
    "def m_score(row):\n",
    "    # сегментируем по средней оценку по возрастанию от 1(плохо) до 4 (отлично)\n",
    "    if row < 40:\n",
    "        row = 1\n",
    "    elif 40<= row <= 70:\n",
    "        row = 2\n",
    "    elif 70 < row <= 85:\n",
    "        row = 3\n",
    "    else:\n",
    "        row = 4\n",
    "    return row\n",
    "\n",
    "\n",
    "def r_score(row):\n",
    "    # сегментируем по времене сдачи экзамен, оценкуе не подлежит\n",
    "    if row < 234:\n",
    "        row = 1\n",
    "    elif 234<= row <= 241:\n",
    "        row = 2\n",
    "    elif 241 < row <= 243:\n",
    "        row = 3\n",
    "    else:\n",
    "        row = 4\n",
    "    return row\n",
    "\n",
    "def f_score(row):\n",
    "    ## сегмитруем по успешным экзаменам по возрастанию 1(не сдал ни одного), 0.5 (сдал половину) 1 = сдал все\n",
    "    if row == 0:\n",
    "        row = 1\n",
    "    elif row == 0.5:\n",
    "        row = 2\n",
    "    else :\n",
    "        row = 3\n",
    "    return row"
   ]
  },
  {
   "cell_type": "code",
   "execution_count": 83,
   "metadata": {},
   "outputs": [],
   "source": [
    "rfm['M'] = rfm['monetary'].apply(lambda x:m_score(x))\n",
    "rfm['R'] = rfm['recency'].apply(lambda x:r_score(x))\n",
    "rfm['F'] = rfm['frequency'].apply(lambda x:f_score(x))"
   ]
  },
  {
   "cell_type": "code",
   "execution_count": 84,
   "metadata": {},
   "outputs": [
    {
     "data": {
      "image/png": "[encoded data removed]",
      "text/plain": [
       "<Figure size 1000x700 with 2 Axes>"
      ]
     },
     "metadata": {},
     "output_type": "display_data"
    }
   ],
   "source": [
    "rfm_pivot = rfm.pivot_table(index=\"R\",columns=\"F\",values='monetary')\n",
    "sns.heatmap(rfm_pivot, annot=True, linewidths=0.01)\n",
    "plt.xlabel('завершаемость курса')\n",
    "plt.ylabel('время сдачи')\n",
    "plt.show()"
   ]
  },
  {
   "cell_type": "code",
   "execution_count": 85,
   "metadata": {},
   "outputs": [
    {
     "data": {
      "text/plain": [
       "'\\n1. Тепловая карта показала, что чем лучше сдают те, кто дольше готовится\\nЗавершаемость (frequency) обучения в итоговый анализ брать не буду, так как считаю, что она не показательна.\\nсегментировать буду по времени обучения и колличества баллов.\\n\\nОписание сегментации:\\n4x - Много баллов:\\n\\n    41: Гении - набрали много баллов и потратили мало времени. Это отличные ученики, которые быстро усваивают материал.\\n    42, 43, 44: Отличники - набрали много баллов, потратили разное количество времени. Все они успешны, но у кого-то может уйти больше времени на достижение отличных результатов.\\n\\n3x - Среднее количество баллов:\\n\\n    31: Потенциальные отличники, либо очень самоуверенные - набрали среднее количество баллов, но потратили мало времени. Возможно, у них есть потенциал улучшить свои результаты.\\n    32, 33: Твердые хорошисты - набрали среднее количество баллов и потратили умеренное время. Это хорошие ученики с устойчивыми результатами.\\n    34: Усидчивые хорошисты - набрали среднее количество баллов, но потратили много времени. Они усердно работают для достижения своих результатов.\\n\\n2x - Меньше среднего баллов:\\n    21: Потенциальные хорошисты - набрали меньше среднего баллов, но потратили мало времени. Есть потенциал для улучшения с увеличением усилий.\\n    22: Невнимательные троечники - набрали меньше среднего баллов и потратили умеренное время. Вероятно, у них проблемы с концентрацией или вниманием.\\n    23: Усидчивые, но с проблемами - набрали меньше среднего баллов, но потратили много времени. Сталкиваются с трудностями, несмотря на усилия.\\n    24: Потенциальные двоечники - набрали мало баллов, но потратили много времени. Имеют значительные проблемы с успеваемостью.\\n\\n1x - Мало баллов:\\n    11, 12: Безответственные - набрали мало баллов и потратили мало времени. Низкая мотивация или интерес к обучению.\\n    13, 14: Не поддаются обучению по данному направлению - набрали мало баллов, потратили умеренное или много времени. Возможно, им тяжело дается данный предмет или направление, и они не показывают значительных успехов, несмотря на затраченные усилия.\\n '"
      ]
     },
     "execution_count": 85,
     "metadata": {},
     "output_type": "execute_result"
    }
   ],
   "source": [
    "'''\n",
    "1. Тепловая карта показала, что лучше сдают те, кто дольше готовится\n",
    "Завершаемость (frequency) обучения в итоговый анализ брать не буду, так как считаю, что она не показательна.\n",
    "сегментировать буду по времени обучения и колличеству баллов.\n",
    "\n",
    "Описание сегментации:\n",
    "4x - Много баллов:\n",
    "\n",
    "    41: Гении - набрали много баллов и потратили мало времени. Это отличные ученики, которые быстро усваивают материал.\n",
    "    42, 43, 44: Отличники - набрали много баллов, потратили разное количество времени. Все они успешны, но у кого-то может уйти больше времени на достижение отличных результатов.\n",
    "\n",
    "3x - Среднее количество баллов:\n",
    "\n",
    "    31: Потенциальные отличники, либо очень самоуверенные - набрали среднее количество баллов, но потратили мало времени. Возможно, у них есть потенциал улучшить свои результаты.\n",
    "    32, 33: Твердые хорошисты - набрали среднее количество баллов и потратили умеренное время. Это хорошие ученики с устойчивыми результатами.\n",
    "    34: Усидчивые хорошисты - набрали среднее количество баллов, но потратили много времени. Они усердно работают для достижения своих результатов.\n",
    "\n",
    "2x - Меньше среднего баллов:\n",
    "    21: Потенциальные хорошисты - набрали меньше среднего баллов, но потратили мало времени. Есть потенциал для улучшения с увеличением усилий.\n",
    "    22: Невнимательные троечники - набрали меньше среднего баллов и потратили умеренное время. Вероятно, у них проблемы с концентрацией или вниманием.\n",
    "    23: Усидчивые, но с проблемами - набрали меньше среднего баллов, но потратили много времени. Сталкиваются с трудностями, несмотря на усилия.\n",
    "    24: Потенциальные двоечники - набрали мало баллов, но потратили много времени. Имеют значительные проблемы с успеваемостью.\n",
    "\n",
    "1x - Мало баллов:\n",
    "    11, 12: Безответственные - набрали мало баллов и потратили мало времени. Низкая мотивация или интерес к обучению.\n",
    "    13, 14: Не поддаются обучению по данному направлению - набрали мало баллов, потратили умеренное или много времени. Возможно, им тяжело дается данный предмет или направление, и они не показывают значительных успехов, несмотря на затраченные усилия.\n",
    " '''\n"
   ]
  },
  {
   "cell_type": "code",
   "execution_count": 86,
   "metadata": {},
   "outputs": [],
   "source": [
    "# ОцекаВремя\n",
    "seg_dict = {\n",
    "    '41': 'Гении',\n",
    "    '42': 'Отличники',\n",
    "    '43': 'Отличники',\n",
    "    '44': 'Отличники',\n",
    "    '31': 'Потенциальные отличники, либо очень самоуверенные',\n",
    "    '32': 'Твердые хорошисты',\n",
    "    '33': 'Твердые хорошисты',\n",
    "    '34': 'Усидчивые хорошисты',\n",
    "    '21': 'Потенциальные хорошисты',\n",
    "    '22': 'Невнимательные троечники',\n",
    "    '23': 'Усидчивые, но с проблемами',\n",
    "    '24': 'Потенциальные двоечники',\n",
    "    '11': 'Безответственные',\n",
    "    '12': 'Безответственные',\n",
    "    '13': 'Не поддаются обучению по данному направлению',\n",
    "    '14': 'Не поддаются обучению по данному направлению'\n",
    "}"
   ]
  },
  {
   "cell_type": "code",
   "execution_count": 87,
   "metadata": {},
   "outputs": [],
   "source": [
    "rfm['RFM_score'] =  rfm['M'].map(str) +  rfm['R'].map(str)\n",
    "rfm['segment'] = rfm['RFM_score'].replace(seg_dict)"
   ]
  },
  {
   "cell_type": "code",
   "execution_count": 88,
   "metadata": {},
   "outputs": [
    {
     "data": {
      "text/plain": [
       "segment\n",
       "Отличники                                            741\n",
       "Твердые хорошисты                                    679\n",
       "Невнимательные троечники                             625\n",
       "Усидчивые, но с проблемами                           611\n",
       "Потенциальные хорошисты                              507\n",
       "Потенциальные двоечники                              382\n",
       "Безответственные                                     275\n",
       "Не поддаются обучению по данному направлению         268\n",
       "Потенциальные отличники, либо очень самоуверенные    217\n",
       "Усидчивые хорошисты                                  165\n",
       "Гении                                                163\n",
       "Name: count, dtype: int64"
      ]
     },
     "execution_count": 88,
     "metadata": {},
     "output_type": "execute_result"
    }
   ],
   "source": [
    "rfm.segment.value_counts()"
   ]
  },
  {
   "cell_type": "code",
   "execution_count": 89,
   "metadata": {},
   "outputs": [
    {
     "data": {
      "image/png": "[encoded data removed]",
      "text/plain": [
       "<Figure size 1000x700 with 1 Axes>"
      ]
     },
     "metadata": {},
     "output_type": "display_data"
    }
   ],
   "source": [
    "segments_counts = rfm['segment'].value_counts().sort_values(ascending=True)\n",
    "\n",
    "fig, ax = plt.subplots()\n",
    "\n",
    "bars = ax.barh(range(len(segments_counts)),\n",
    "              segments_counts,\n",
    "              color='silver')\n",
    "ax.set_frame_on(False)\n",
    "ax.tick_params(left=False,\n",
    "               bottom=False,\n",
    "               labelbottom=False)\n",
    "ax.set_yticks(range(len(segments_counts)))\n",
    "ax.set_yticklabels(segments_counts.index)\n",
    "\n",
    "for i, bar in enumerate(bars):\n",
    "        value = bar.get_width()\n",
    "        if segments_counts.index[i] in ['Гении','Отличники']:\n",
    "            bar.set_color('#39E639')\n",
    "        elif segments_counts.index[i] in ['Безответственные', 'Не поддаются обучению по данному направлению']:\n",
    "            bar.set_color('#A60000')\n",
    "        elif segments_counts.index[i] in ['Потенциальные двоечники']:\n",
    "            bar.set_color('#FF6F00')    \n",
    "        ax.text(value,\n",
    "                bar.get_y() + bar.get_height()/2,\n",
    "                '{:,} ({:}%)'.format(int(value),\n",
    "                                   int(value*100/segments_counts.sum())),\n",
    "                va='center',\n",
    "                ha='left'\n",
    "               )\n",
    "\n",
    "plt.show()"
   ]
  },
  {
   "cell_type": "code",
   "execution_count": 91,
   "metadata": {},
   "outputs": [],
   "source": [
    "''' \n",
    "Проблемные зоны:\n",
    "    10% студентов находятся в сегментах, где успеваемость критически низкая:\n",
    "        13, 14: Не поддаются обучению по данному направлению.\n",
    "        11, 12: Безответственные.\n",
    "    8% студентов находятся на грани, которые потенциально могут перейти в проблемную зону:\n",
    "        24: Потенциальные двоечники.\n",
    "\n",
    "Зоны развития:\n",
    "    Потенциальные отличники и хорошисты:\n",
    "        31: Потенциальные отличники, либо очень самоуверенные.\n",
    "        21: Потенциальные хорошисты.\n",
    "\n",
    "Рекомендации:\n",
    "    Работа с проблемными студентами:\n",
    "        Ввести дополнительные занятия и консультации.\n",
    "\n",
    "    Мотивация потенциальных отличников и хорошистов:\n",
    "        Ввести поощрения за улучшение результатов (грамоты, стипендии).\n",
    "\n",
    "    Поддержка студентов на грани:\n",
    "        Разработать программы по улучшению навыков самоорганизации и управления временем.'''"
   ]
  },
  {
   "cell_type": "code",
   "execution_count": null,
   "metadata": {},
   "outputs": [],
   "source": []
  },
  {
   "cell_type": "code",
   "execution_count": null,
   "metadata": {},
   "outputs": [],
   "source": []
  }
 ],
 "metadata": {
  "kernelspec": {
   "display_name": "Python 3",
   "language": "python",
   "name": "python3"
  },
  "language_info": {
   "codemirror_mode": {
    "name": "ipython",
    "version": 3
   },
   "file_extension": ".py",
   "mimetype": "text/x-python",
   "name": "python",
   "nbconvert_exporter": "python",
   "pygments_lexer": "ipython3",
   "version": "3.11.5"
  }
 },
 "nbformat": 4,
 "nbformat_minor": 4
}
